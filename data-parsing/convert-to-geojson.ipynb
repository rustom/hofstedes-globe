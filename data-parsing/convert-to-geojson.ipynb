{
 "cells": [
  {
   "cell_type": "code",
   "execution_count": 19,
   "metadata": {},
   "outputs": [],
   "source": [
    "import pandas as pd\n",
    "import numpy as np"
   ]
  },
  {
   "cell_type": "code",
   "execution_count": 41,
   "metadata": {},
   "outputs": [],
   "source": [
    "df = pd.read_csv('hofstede.csv', sep=';')"
   ]
  },
  {
   "cell_type": "code",
   "execution_count": 42,
   "metadata": {},
   "outputs": [],
   "source": [
    "df = df.replace('#NULL!', np.NaN)\n",
    "df = df.rename(columns={'ctr': 'Country Code', 'country': 'Country', \n",
    "    'pdi': 'Power Distance', \n",
    "    'idv': 'Individualism', \n",
    "    'mas': 'Masculinity', \n",
    "    'uai': 'Uncertainty Avoidance', \n",
    "    'ltowvs': 'Long Term Orientation', \n",
    "    'ivr': 'Indulgence'})\n",
    "# df = df.set_index('Country Code')"
   ]
  },
  {
   "cell_type": "code",
   "execution_count": 49,
   "metadata": {},
   "outputs": [],
   "source": [
    "df.to_json(orient='records')\n",
    "df.to_json('hofstede.json',orient='records')"
   ]
  },
  {
   "cell_type": "code",
   "execution_count": null,
   "metadata": {},
   "outputs": [],
   "source": []
  }
 ],
 "metadata": {
  "interpreter": {
   "hash": "9b0bee1d2004e17952c6ef238ff74e36f8786ffb1ba3a51a4bdde83bf6a72541"
  },
  "kernelspec": {
   "display_name": "Python 3.8.5 64-bit ('base': conda)",
   "language": "python",
   "name": "python3"
  },
  "language_info": {
   "codemirror_mode": {
    "name": "ipython",
    "version": 3
   },
   "file_extension": ".py",
   "mimetype": "text/x-python",
   "name": "python",
   "nbconvert_exporter": "python",
   "pygments_lexer": "ipython3",
   "version": "3.6.12"
  },
  "orig_nbformat": 4
 },
 "nbformat": 4,
 "nbformat_minor": 2
}
